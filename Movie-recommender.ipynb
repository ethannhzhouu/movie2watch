{
 "cells": [
  {
   "cell_type": "markdown",
   "id": "8a636794-4a1c-49e1-b78e-89a6a55ee022",
   "metadata": {},
   "source": [
    "# Movie2Watch"
   ]
  },
  {
   "cell_type": "markdown",
   "id": "6f0cff4d-3465-4c54-a909-423d17f0e4b0",
   "metadata": {},
   "source": [
    "## Collaborative Filtering Movie Recommendation System"
   ]
  },
  {
   "cell_type": "markdown",
   "id": "115436a1-2821-4e75-81ce-14cd1d5068e9",
   "metadata": {},
   "source": [
    "Data is pulled from https://grouplens.org/datasets/movielens/"
   ]
  },
  {
   "cell_type": "code",
   "execution_count": 207,
   "id": "947600df-8e1e-4735-8cf9-12c001af457f",
   "metadata": {},
   "outputs": [],
   "source": [
    "import gzip\n",
    "import math\n",
    "import random\n",
    "import pandas as pd\n",
    "import json\n",
    "import seaborn as sns\n",
    "import numpy as np\n",
    "import matplotlib.pyplot as plt\n",
    "from collections import defaultdict"
   ]
  },
  {
   "cell_type": "code",
   "execution_count": 21,
   "id": "a713adf8-20b3-4d94-a9fd-357d65a9633d",
   "metadata": {},
   "outputs": [],
   "source": [
    "import warnings\n",
    "warnings.simplefilter(action='ignore', category=FutureWarning)"
   ]
  },
  {
   "cell_type": "code",
   "execution_count": 22,
   "id": "32ca1f15-d76f-4baf-98b1-c25a8fb76378",
   "metadata": {},
   "outputs": [],
   "source": [
    "movies = pd.read_csv(\"movies.csv\")\n",
    "ratings = pd.read_csv(\"ratings.csv\")"
   ]
  },
  {
   "cell_type": "markdown",
   "id": "c9350cf2-8501-4064-9aa8-556ea4aeaeff",
   "metadata": {},
   "source": [
    "# Reading the data"
   ]
  },
  {
   "cell_type": "code",
   "execution_count": 23,
   "id": "a6c90024-d75a-4069-91e8-7fed842a390e",
   "metadata": {},
   "outputs": [],
   "source": [
    "#looking at movies and ratings datasets"
   ]
  },
  {
   "cell_type": "code",
   "execution_count": 24,
   "id": "6246269f-b2c8-482f-8ba4-b2dcd0b8a8da",
   "metadata": {},
   "outputs": [
    {
     "data": {
      "text/html": [
       "<div>\n",
       "<style scoped>\n",
       "    .dataframe tbody tr th:only-of-type {\n",
       "        vertical-align: middle;\n",
       "    }\n",
       "\n",
       "    .dataframe tbody tr th {\n",
       "        vertical-align: top;\n",
       "    }\n",
       "\n",
       "    .dataframe thead th {\n",
       "        text-align: right;\n",
       "    }\n",
       "</style>\n",
       "<table border=\"1\" class=\"dataframe\">\n",
       "  <thead>\n",
       "    <tr style=\"text-align: right;\">\n",
       "      <th></th>\n",
       "      <th>movieId</th>\n",
       "      <th>title</th>\n",
       "      <th>genres</th>\n",
       "    </tr>\n",
       "  </thead>\n",
       "  <tbody>\n",
       "    <tr>\n",
       "      <th>0</th>\n",
       "      <td>1</td>\n",
       "      <td>Toy Story (1995)</td>\n",
       "      <td>Adventure|Animation|Children|Comedy|Fantasy</td>\n",
       "    </tr>\n",
       "    <tr>\n",
       "      <th>1</th>\n",
       "      <td>2</td>\n",
       "      <td>Jumanji (1995)</td>\n",
       "      <td>Adventure|Children|Fantasy</td>\n",
       "    </tr>\n",
       "    <tr>\n",
       "      <th>2</th>\n",
       "      <td>3</td>\n",
       "      <td>Grumpier Old Men (1995)</td>\n",
       "      <td>Comedy|Romance</td>\n",
       "    </tr>\n",
       "    <tr>\n",
       "      <th>3</th>\n",
       "      <td>4</td>\n",
       "      <td>Waiting to Exhale (1995)</td>\n",
       "      <td>Comedy|Drama|Romance</td>\n",
       "    </tr>\n",
       "    <tr>\n",
       "      <th>4</th>\n",
       "      <td>5</td>\n",
       "      <td>Father of the Bride Part II (1995)</td>\n",
       "      <td>Comedy</td>\n",
       "    </tr>\n",
       "  </tbody>\n",
       "</table>\n",
       "</div>"
      ],
      "text/plain": [
       "   movieId                               title  \\\n",
       "0        1                    Toy Story (1995)   \n",
       "1        2                      Jumanji (1995)   \n",
       "2        3             Grumpier Old Men (1995)   \n",
       "3        4            Waiting to Exhale (1995)   \n",
       "4        5  Father of the Bride Part II (1995)   \n",
       "\n",
       "                                        genres  \n",
       "0  Adventure|Animation|Children|Comedy|Fantasy  \n",
       "1                   Adventure|Children|Fantasy  \n",
       "2                               Comedy|Romance  \n",
       "3                         Comedy|Drama|Romance  \n",
       "4                                       Comedy  "
      ]
     },
     "execution_count": 24,
     "metadata": {},
     "output_type": "execute_result"
    }
   ],
   "source": [
    "movies.head()"
   ]
  },
  {
   "cell_type": "code",
   "execution_count": 25,
   "id": "1ba008f4-7261-4f05-8bf2-102e4f3c92a4",
   "metadata": {},
   "outputs": [
    {
     "data": {
      "text/plain": [
       "9742"
      ]
     },
     "execution_count": 25,
     "metadata": {},
     "output_type": "execute_result"
    }
   ],
   "source": [
    "len(movies)"
   ]
  },
  {
   "cell_type": "code",
   "execution_count": 26,
   "id": "cfefec73-8b3b-423d-a899-1dfff157aff4",
   "metadata": {},
   "outputs": [
    {
     "data": {
      "text/html": [
       "<div>\n",
       "<style scoped>\n",
       "    .dataframe tbody tr th:only-of-type {\n",
       "        vertical-align: middle;\n",
       "    }\n",
       "\n",
       "    .dataframe tbody tr th {\n",
       "        vertical-align: top;\n",
       "    }\n",
       "\n",
       "    .dataframe thead th {\n",
       "        text-align: right;\n",
       "    }\n",
       "</style>\n",
       "<table border=\"1\" class=\"dataframe\">\n",
       "  <thead>\n",
       "    <tr style=\"text-align: right;\">\n",
       "      <th></th>\n",
       "      <th>userId</th>\n",
       "      <th>movieId</th>\n",
       "      <th>rating</th>\n",
       "      <th>timestamp</th>\n",
       "    </tr>\n",
       "  </thead>\n",
       "  <tbody>\n",
       "    <tr>\n",
       "      <th>0</th>\n",
       "      <td>1</td>\n",
       "      <td>1</td>\n",
       "      <td>4.0</td>\n",
       "      <td>964982703</td>\n",
       "    </tr>\n",
       "    <tr>\n",
       "      <th>1</th>\n",
       "      <td>1</td>\n",
       "      <td>3</td>\n",
       "      <td>4.0</td>\n",
       "      <td>964981247</td>\n",
       "    </tr>\n",
       "    <tr>\n",
       "      <th>2</th>\n",
       "      <td>1</td>\n",
       "      <td>6</td>\n",
       "      <td>4.0</td>\n",
       "      <td>964982224</td>\n",
       "    </tr>\n",
       "    <tr>\n",
       "      <th>3</th>\n",
       "      <td>1</td>\n",
       "      <td>47</td>\n",
       "      <td>5.0</td>\n",
       "      <td>964983815</td>\n",
       "    </tr>\n",
       "    <tr>\n",
       "      <th>4</th>\n",
       "      <td>1</td>\n",
       "      <td>50</td>\n",
       "      <td>5.0</td>\n",
       "      <td>964982931</td>\n",
       "    </tr>\n",
       "  </tbody>\n",
       "</table>\n",
       "</div>"
      ],
      "text/plain": [
       "   userId  movieId  rating  timestamp\n",
       "0       1        1     4.0  964982703\n",
       "1       1        3     4.0  964981247\n",
       "2       1        6     4.0  964982224\n",
       "3       1       47     5.0  964983815\n",
       "4       1       50     5.0  964982931"
      ]
     },
     "execution_count": 26,
     "metadata": {},
     "output_type": "execute_result"
    }
   ],
   "source": [
    "ratings.head()"
   ]
  },
  {
   "cell_type": "code",
   "execution_count": 27,
   "id": "5c879b60-1f5f-4675-aaba-e3ada96a016f",
   "metadata": {},
   "outputs": [
    {
     "data": {
      "text/plain": [
       "100836"
      ]
     },
     "execution_count": 27,
     "metadata": {},
     "output_type": "execute_result"
    }
   ],
   "source": [
    "len(ratings)"
   ]
  },
  {
   "cell_type": "markdown",
   "id": "e690059c-df23-4b5d-9d35-55906c7967ce",
   "metadata": {},
   "source": [
    "# EDA"
   ]
  },
  {
   "cell_type": "code",
   "execution_count": 171,
   "id": "fe2896f0-dd0c-4064-b8b8-64a2f282529e",
   "metadata": {},
   "outputs": [
    {
     "data": {
      "text/plain": [
       "4.0    26818\n",
       "3.0    20047\n",
       "5.0    13211\n",
       "3.5    13136\n",
       "4.5     8551\n",
       "2.0     7551\n",
       "2.5     5550\n",
       "1.0     2811\n",
       "1.5     1791\n",
       "0.5     1370\n",
       "Name: rating, dtype: int64"
      ]
     },
     "execution_count": 171,
     "metadata": {},
     "output_type": "execute_result"
    }
   ],
   "source": [
    "# distribution of ratings\n",
    "ratings['rating'].value_counts()"
   ]
  },
  {
   "cell_type": "code",
   "execution_count": 178,
   "id": "7661536a-e41c-4284-997a-5c658acdad73",
   "metadata": {},
   "outputs": [],
   "source": [
    "item_pop = ratings['movieId'].value_counts()"
   ]
  },
  {
   "cell_type": "code",
   "execution_count": 241,
   "id": "596d9a95-7e57-4871-b3f1-600f549e6833",
   "metadata": {},
   "outputs": [
    {
     "data": {
      "text/plain": [
       "356     329\n",
       "318     317\n",
       "296     307\n",
       "593     279\n",
       "2571    278\n",
       "Name: movieId, dtype: int64"
      ]
     },
     "execution_count": 241,
     "metadata": {},
     "output_type": "execute_result"
    }
   ],
   "source": [
    "item_pop[:5]"
   ]
  },
  {
   "cell_type": "code",
   "execution_count": 177,
   "id": "ccf68740-7daa-4194-9dda-896d0d1583fc",
   "metadata": {},
   "outputs": [],
   "source": [
    "eda = ratings['movieId'].to_frame()\n",
    "eda['ratings'] = ratings['rating']"
   ]
  },
  {
   "cell_type": "code",
   "execution_count": 184,
   "id": "62cbe3dd-fe31-4bc5-850f-ee874a825bad",
   "metadata": {},
   "outputs": [],
   "source": [
    "means = eda.groupby(['movieId']).mean()\n",
    "means['counts'] = item_pop.to_frame().sort_index()['movieId']\n",
    "means = means.sort_values('counts', ascending = False)"
   ]
  },
  {
   "cell_type": "code",
   "execution_count": 240,
   "id": "471c3c94-84c6-4706-9dd5-875f5614f3eb",
   "metadata": {},
   "outputs": [
    {
     "data": {
      "text/html": [
       "<div>\n",
       "<style scoped>\n",
       "    .dataframe tbody tr th:only-of-type {\n",
       "        vertical-align: middle;\n",
       "    }\n",
       "\n",
       "    .dataframe tbody tr th {\n",
       "        vertical-align: top;\n",
       "    }\n",
       "\n",
       "    .dataframe thead th {\n",
       "        text-align: right;\n",
       "    }\n",
       "</style>\n",
       "<table border=\"1\" class=\"dataframe\">\n",
       "  <thead>\n",
       "    <tr style=\"text-align: right;\">\n",
       "      <th></th>\n",
       "      <th>ratings</th>\n",
       "      <th>counts</th>\n",
       "    </tr>\n",
       "    <tr>\n",
       "      <th>movieId</th>\n",
       "      <th></th>\n",
       "      <th></th>\n",
       "    </tr>\n",
       "  </thead>\n",
       "  <tbody>\n",
       "    <tr>\n",
       "      <th>356</th>\n",
       "      <td>4.164134</td>\n",
       "      <td>329</td>\n",
       "    </tr>\n",
       "    <tr>\n",
       "      <th>318</th>\n",
       "      <td>4.429022</td>\n",
       "      <td>317</td>\n",
       "    </tr>\n",
       "    <tr>\n",
       "      <th>296</th>\n",
       "      <td>4.197068</td>\n",
       "      <td>307</td>\n",
       "    </tr>\n",
       "    <tr>\n",
       "      <th>593</th>\n",
       "      <td>4.161290</td>\n",
       "      <td>279</td>\n",
       "    </tr>\n",
       "    <tr>\n",
       "      <th>2571</th>\n",
       "      <td>4.192446</td>\n",
       "      <td>278</td>\n",
       "    </tr>\n",
       "  </tbody>\n",
       "</table>\n",
       "</div>"
      ],
      "text/plain": [
       "          ratings  counts\n",
       "movieId                  \n",
       "356      4.164134     329\n",
       "318      4.429022     317\n",
       "296      4.197068     307\n",
       "593      4.161290     279\n",
       "2571     4.192446     278"
      ]
     },
     "execution_count": 240,
     "metadata": {},
     "output_type": "execute_result"
    }
   ],
   "source": [
    "means[:5]"
   ]
  },
  {
   "cell_type": "markdown",
   "id": "72a463e2-7b76-46a7-b7ca-3655c9cdddaf",
   "metadata": {},
   "source": [
    "### Relationship between movie popularity and average ratings"
   ]
  },
  {
   "cell_type": "code",
   "execution_count": 189,
   "id": "6bdd2c13-bebe-4315-9b97-ce594c10eb76",
   "metadata": {},
   "outputs": [
    {
     "data": {
      "text/plain": [
       "<AxesSubplot:xlabel='counts', ylabel='ratings'>"
      ]
     },
     "execution_count": 189,
     "metadata": {},
     "output_type": "execute_result"
    },
    {
     "data": {
      "image/png": "[encoded data removed]",
      "text/plain": [
       "<Figure size 432x288 with 1 Axes>"
      ]
     },
     "metadata": {
      "needs_background": "light"
     },
     "output_type": "display_data"
    }
   ],
   "source": [
    "sns.scatterplot('counts', 'ratings', data = means)"
   ]
  },
  {
   "cell_type": "markdown",
   "id": "0eef56d1-623b-45a2-8bb1-5f6b7cd28bca",
   "metadata": {},
   "source": [
    "Judging by the graph, we can see that the movies with more reviews have an average rating of around 4.0."
   ]
  },
  {
   "cell_type": "markdown",
   "id": "50ed70a4-50a4-4d5b-a729-026c6bde47fd",
   "metadata": {},
   "source": [
    "# Cleaning/Removing Noise from the data\n",
    "To make our dataset more credible, we do not want movies that were rated by a small number of users and we also do not want users who rated very little movies. \n",
    "\n",
    "Our filters will be:\n",
    "\n",
    "- the user must have reviewed a minimum of 30 movies.\n",
    "- the movie must have a minimum of 20 user reviews.\n"
   ]
  },
  {
   "cell_type": "code",
   "execution_count": 226,
   "id": "3ae3670a-b4db-4693-98fa-735eefe9e7f2",
   "metadata": {},
   "outputs": [],
   "source": [
    "movie_counts = ratings.groupby('movieId')['movieId'].agg('count')\n",
    "user_counts = ratings.groupby('userId')['userId'].agg('count')"
   ]
  },
  {
   "cell_type": "markdown",
   "id": "020ce9d2-022c-4176-97ac-351987926b2b",
   "metadata": {},
   "source": [
    "### Removing users that have less than 30 movie reviews"
   ]
  },
  {
   "cell_type": "code",
   "execution_count": 231,
   "id": "9a1b1bad-7a98-4931-837e-cac31ece16b3",
   "metadata": {},
   "outputs": [
    {
     "data": {
      "image/png": "[encoded data removed]",
      "text/plain": [
       "<Figure size 432x288 with 1 Axes>"
      ]
     },
     "metadata": {
      "needs_background": "light"
     },
     "output_type": "display_data"
    }
   ],
   "source": [
    "plt.scatter(user_counts.index, user_counts,color='lightgreen')\n",
    "plt.axhline(y=30, color='red')\n",
    "plt.xlabel('UserId')\n",
    "plt.ylabel('# of Movie Reviews')\n",
    "plt.show()"
   ]
  },
  {
   "cell_type": "code",
   "execution_count": 29,
   "id": "dc9eb583-3f01-4c5c-a57c-a6186215ba10",
   "metadata": {},
   "outputs": [],
   "source": [
    "# get all where count of users > 30"
   ]
  },
  {
   "cell_type": "code",
   "execution_count": 30,
   "id": "5b262ee2-b8dd-46c6-ab03-f5eaec969b2b",
   "metadata": {},
   "outputs": [],
   "source": [
    "qualified_users = ratings[ratings.groupby('userId')['userId'].transform('size') > 30]"
   ]
  },
  {
   "cell_type": "code",
   "execution_count": 31,
   "id": "79454323-9b81-4011-84b2-e4cf63ca4be6",
   "metadata": {},
   "outputs": [
    {
     "data": {
      "text/plain": [
       "98141"
      ]
     },
     "execution_count": 31,
     "metadata": {},
     "output_type": "execute_result"
    }
   ],
   "source": [
    "len(qualified_users)"
   ]
  },
  {
   "cell_type": "markdown",
   "id": "5525cdf8-0908-4dd9-ada5-ee32a9ad0b77",
   "metadata": {},
   "source": [
    "### Removing movies that have less than 20 user reviews"
   ]
  },
  {
   "cell_type": "code",
   "execution_count": 228,
   "id": "8af178db-86d8-49de-a847-f19ce490e262",
   "metadata": {},
   "outputs": [
    {
     "data": {
      "image/png": "[encoded data removed]",
      "text/plain": [
       "<Figure size 432x288 with 1 Axes>"
      ]
     },
     "metadata": {
      "needs_background": "light"
     },
     "output_type": "display_data"
    }
   ],
   "source": [
    "plt.scatter(movie_counts.index, movie_counts,color='lightblue')\n",
    "plt.axhline(y=20, color='red')\n",
    "plt.xlabel('MovieId')\n",
    "plt.ylabel('# of User Reviews')\n",
    "plt.show()"
   ]
  },
  {
   "cell_type": "code",
   "execution_count": 32,
   "id": "5dfd9854-3b59-480c-b182-1be184a3608b",
   "metadata": {},
   "outputs": [],
   "source": [
    "# get all where count of movies > 20"
   ]
  },
  {
   "cell_type": "code",
   "execution_count": 33,
   "id": "7b04df3f-483a-41a8-afa3-059f2afca88c",
   "metadata": {},
   "outputs": [],
   "source": [
    "qualified_movies = ratings[ratings.groupby('movieId')['movieId'].transform('size') > 20]"
   ]
  },
  {
   "cell_type": "code",
   "execution_count": 34,
   "id": "fddebdc1-e74c-4096-ba6f-18b92edf7b99",
   "metadata": {},
   "outputs": [
    {
     "data": {
      "text/plain": [
       "66658"
      ]
     },
     "execution_count": 34,
     "metadata": {},
     "output_type": "execute_result"
    }
   ],
   "source": [
    "len(qualified_movies)"
   ]
  },
  {
   "cell_type": "markdown",
   "id": "5c6a326e-6e1b-46cd-b215-9ecd0f6030cc",
   "metadata": {},
   "source": [
    "### Combining both filters"
   ]
  },
  {
   "cell_type": "code",
   "execution_count": 1,
   "id": "8f3a570c-1ff5-40e7-bc1d-b7061cb0f9a6",
   "metadata": {},
   "outputs": [],
   "source": [
    "# get all of where count of movies > 20 and count of users > 30"
   ]
  },
  {
   "cell_type": "code",
   "execution_count": 36,
   "id": "6bb9f84c-b26b-4d8f-af4b-487ea899bf75",
   "metadata": {},
   "outputs": [],
   "source": [
    "qualified_ratings = pd.merge(qualified_users, qualified_movies, how = 'inner')"
   ]
  },
  {
   "cell_type": "code",
   "execution_count": 38,
   "id": "4f2d835b-43c8-4ffd-b441-db382f35602d",
   "metadata": {},
   "outputs": [
    {
     "data": {
      "text/html": [
       "<div>\n",
       "<style scoped>\n",
       "    .dataframe tbody tr th:only-of-type {\n",
       "        vertical-align: middle;\n",
       "    }\n",
       "\n",
       "    .dataframe tbody tr th {\n",
       "        vertical-align: top;\n",
       "    }\n",
       "\n",
       "    .dataframe thead th {\n",
       "        text-align: right;\n",
       "    }\n",
       "</style>\n",
       "<table border=\"1\" class=\"dataframe\">\n",
       "  <thead>\n",
       "    <tr style=\"text-align: right;\">\n",
       "      <th></th>\n",
       "      <th>userId</th>\n",
       "      <th>movieId</th>\n",
       "      <th>rating</th>\n",
       "      <th>timestamp</th>\n",
       "    </tr>\n",
       "  </thead>\n",
       "  <tbody>\n",
       "    <tr>\n",
       "      <th>0</th>\n",
       "      <td>1</td>\n",
       "      <td>1</td>\n",
       "      <td>4.0</td>\n",
       "      <td>964982703</td>\n",
       "    </tr>\n",
       "    <tr>\n",
       "      <th>1</th>\n",
       "      <td>1</td>\n",
       "      <td>3</td>\n",
       "      <td>4.0</td>\n",
       "      <td>964981247</td>\n",
       "    </tr>\n",
       "    <tr>\n",
       "      <th>2</th>\n",
       "      <td>1</td>\n",
       "      <td>6</td>\n",
       "      <td>4.0</td>\n",
       "      <td>964982224</td>\n",
       "    </tr>\n",
       "    <tr>\n",
       "      <th>3</th>\n",
       "      <td>1</td>\n",
       "      <td>47</td>\n",
       "      <td>5.0</td>\n",
       "      <td>964983815</td>\n",
       "    </tr>\n",
       "    <tr>\n",
       "      <th>4</th>\n",
       "      <td>1</td>\n",
       "      <td>50</td>\n",
       "      <td>5.0</td>\n",
       "      <td>964982931</td>\n",
       "    </tr>\n",
       "    <tr>\n",
       "      <th>...</th>\n",
       "      <td>...</td>\n",
       "      <td>...</td>\n",
       "      <td>...</td>\n",
       "      <td>...</td>\n",
       "    </tr>\n",
       "    <tr>\n",
       "      <th>64406</th>\n",
       "      <td>610</td>\n",
       "      <td>148626</td>\n",
       "      <td>4.0</td>\n",
       "      <td>1493847175</td>\n",
       "    </tr>\n",
       "    <tr>\n",
       "      <th>64407</th>\n",
       "      <td>610</td>\n",
       "      <td>152081</td>\n",
       "      <td>4.0</td>\n",
       "      <td>1493846503</td>\n",
       "    </tr>\n",
       "    <tr>\n",
       "      <th>64408</th>\n",
       "      <td>610</td>\n",
       "      <td>164179</td>\n",
       "      <td>5.0</td>\n",
       "      <td>1493845631</td>\n",
       "    </tr>\n",
       "    <tr>\n",
       "      <th>64409</th>\n",
       "      <td>610</td>\n",
       "      <td>166528</td>\n",
       "      <td>4.0</td>\n",
       "      <td>1493879365</td>\n",
       "    </tr>\n",
       "    <tr>\n",
       "      <th>64410</th>\n",
       "      <td>610</td>\n",
       "      <td>168252</td>\n",
       "      <td>5.0</td>\n",
       "      <td>1493846352</td>\n",
       "    </tr>\n",
       "  </tbody>\n",
       "</table>\n",
       "<p>64411 rows × 4 columns</p>\n",
       "</div>"
      ],
      "text/plain": [
       "       userId  movieId  rating   timestamp\n",
       "0           1        1     4.0   964982703\n",
       "1           1        3     4.0   964981247\n",
       "2           1        6     4.0   964982224\n",
       "3           1       47     5.0   964983815\n",
       "4           1       50     5.0   964982931\n",
       "...       ...      ...     ...         ...\n",
       "64406     610   148626     4.0  1493847175\n",
       "64407     610   152081     4.0  1493846503\n",
       "64408     610   164179     5.0  1493845631\n",
       "64409     610   166528     4.0  1493879365\n",
       "64410     610   168252     5.0  1493846352\n",
       "\n",
       "[64411 rows x 4 columns]"
      ]
     },
     "execution_count": 38,
     "metadata": {},
     "output_type": "execute_result"
    }
   ],
   "source": [
    "qualified_ratings"
   ]
  },
  {
   "cell_type": "markdown",
   "id": "20bee8ca-9dae-41e5-94bc-3d4aa27d5440",
   "metadata": {},
   "source": [
    "### Combining movieid with title"
   ]
  },
  {
   "cell_type": "code",
   "execution_count": 90,
   "id": "3309c38f-2050-4c9f-afc6-f7ccd895540b",
   "metadata": {},
   "outputs": [],
   "source": [
    "final_data = pd.merge(qualified_ratings, movies, how = 'inner', on = 'movieId')"
   ]
  },
  {
   "cell_type": "code",
   "execution_count": 91,
   "id": "516ab414-df0a-4b23-b5dd-ec037355f326",
   "metadata": {},
   "outputs": [
    {
     "data": {
      "text/html": [
       "<div>\n",
       "<style scoped>\n",
       "    .dataframe tbody tr th:only-of-type {\n",
       "        vertical-align: middle;\n",
       "    }\n",
       "\n",
       "    .dataframe tbody tr th {\n",
       "        vertical-align: top;\n",
       "    }\n",
       "\n",
       "    .dataframe thead th {\n",
       "        text-align: right;\n",
       "    }\n",
       "</style>\n",
       "<table border=\"1\" class=\"dataframe\">\n",
       "  <thead>\n",
       "    <tr style=\"text-align: right;\">\n",
       "      <th></th>\n",
       "      <th>userId</th>\n",
       "      <th>movieId</th>\n",
       "      <th>rating</th>\n",
       "      <th>timestamp</th>\n",
       "      <th>title</th>\n",
       "      <th>genres</th>\n",
       "    </tr>\n",
       "  </thead>\n",
       "  <tbody>\n",
       "    <tr>\n",
       "      <th>0</th>\n",
       "      <td>1</td>\n",
       "      <td>1</td>\n",
       "      <td>4.0</td>\n",
       "      <td>964982703</td>\n",
       "      <td>Toy Story (1995)</td>\n",
       "      <td>Adventure|Animation|Children|Comedy|Fantasy</td>\n",
       "    </tr>\n",
       "    <tr>\n",
       "      <th>1</th>\n",
       "      <td>5</td>\n",
       "      <td>1</td>\n",
       "      <td>4.0</td>\n",
       "      <td>847434962</td>\n",
       "      <td>Toy Story (1995)</td>\n",
       "      <td>Adventure|Animation|Children|Comedy|Fantasy</td>\n",
       "    </tr>\n",
       "    <tr>\n",
       "      <th>2</th>\n",
       "      <td>7</td>\n",
       "      <td>1</td>\n",
       "      <td>4.5</td>\n",
       "      <td>1106635946</td>\n",
       "      <td>Toy Story (1995)</td>\n",
       "      <td>Adventure|Animation|Children|Comedy|Fantasy</td>\n",
       "    </tr>\n",
       "    <tr>\n",
       "      <th>3</th>\n",
       "      <td>15</td>\n",
       "      <td>1</td>\n",
       "      <td>2.5</td>\n",
       "      <td>1510577970</td>\n",
       "      <td>Toy Story (1995)</td>\n",
       "      <td>Adventure|Animation|Children|Comedy|Fantasy</td>\n",
       "    </tr>\n",
       "    <tr>\n",
       "      <th>4</th>\n",
       "      <td>17</td>\n",
       "      <td>1</td>\n",
       "      <td>4.5</td>\n",
       "      <td>1305696483</td>\n",
       "      <td>Toy Story (1995)</td>\n",
       "      <td>Adventure|Animation|Children|Comedy|Fantasy</td>\n",
       "    </tr>\n",
       "    <tr>\n",
       "      <th>...</th>\n",
       "      <td>...</td>\n",
       "      <td>...</td>\n",
       "      <td>...</td>\n",
       "      <td>...</td>\n",
       "      <td>...</td>\n",
       "      <td>...</td>\n",
       "    </tr>\n",
       "    <tr>\n",
       "      <th>64406</th>\n",
       "      <td>572</td>\n",
       "      <td>2013</td>\n",
       "      <td>1.0</td>\n",
       "      <td>945887535</td>\n",
       "      <td>Poseidon Adventure, The (1972)</td>\n",
       "      <td>Action|Adventure|Drama</td>\n",
       "    </tr>\n",
       "    <tr>\n",
       "      <th>64407</th>\n",
       "      <td>577</td>\n",
       "      <td>2013</td>\n",
       "      <td>3.0</td>\n",
       "      <td>945967440</td>\n",
       "      <td>Poseidon Adventure, The (1972)</td>\n",
       "      <td>Action|Adventure|Drama</td>\n",
       "    </tr>\n",
       "    <tr>\n",
       "      <th>64408</th>\n",
       "      <td>590</td>\n",
       "      <td>2013</td>\n",
       "      <td>2.5</td>\n",
       "      <td>1258420216</td>\n",
       "      <td>Poseidon Adventure, The (1972)</td>\n",
       "      <td>Action|Adventure|Drama</td>\n",
       "    </tr>\n",
       "    <tr>\n",
       "      <th>64409</th>\n",
       "      <td>597</td>\n",
       "      <td>2013</td>\n",
       "      <td>3.0</td>\n",
       "      <td>941640433</td>\n",
       "      <td>Poseidon Adventure, The (1972)</td>\n",
       "      <td>Action|Adventure|Drama</td>\n",
       "    </tr>\n",
       "    <tr>\n",
       "      <th>64410</th>\n",
       "      <td>600</td>\n",
       "      <td>2013</td>\n",
       "      <td>3.5</td>\n",
       "      <td>1237715986</td>\n",
       "      <td>Poseidon Adventure, The (1972)</td>\n",
       "      <td>Action|Adventure|Drama</td>\n",
       "    </tr>\n",
       "  </tbody>\n",
       "</table>\n",
       "<p>64411 rows × 6 columns</p>\n",
       "</div>"
      ],
      "text/plain": [
       "       userId  movieId  rating   timestamp                           title  \\\n",
       "0           1        1     4.0   964982703                Toy Story (1995)   \n",
       "1           5        1     4.0   847434962                Toy Story (1995)   \n",
       "2           7        1     4.5  1106635946                Toy Story (1995)   \n",
       "3          15        1     2.5  1510577970                Toy Story (1995)   \n",
       "4          17        1     4.5  1305696483                Toy Story (1995)   \n",
       "...       ...      ...     ...         ...                             ...   \n",
       "64406     572     2013     1.0   945887535  Poseidon Adventure, The (1972)   \n",
       "64407     577     2013     3.0   945967440  Poseidon Adventure, The (1972)   \n",
       "64408     590     2013     2.5  1258420216  Poseidon Adventure, The (1972)   \n",
       "64409     597     2013     3.0   941640433  Poseidon Adventure, The (1972)   \n",
       "64410     600     2013     3.5  1237715986  Poseidon Adventure, The (1972)   \n",
       "\n",
       "                                            genres  \n",
       "0      Adventure|Animation|Children|Comedy|Fantasy  \n",
       "1      Adventure|Animation|Children|Comedy|Fantasy  \n",
       "2      Adventure|Animation|Children|Comedy|Fantasy  \n",
       "3      Adventure|Animation|Children|Comedy|Fantasy  \n",
       "4      Adventure|Animation|Children|Comedy|Fantasy  \n",
       "...                                            ...  \n",
       "64406                       Action|Adventure|Drama  \n",
       "64407                       Action|Adventure|Drama  \n",
       "64408                       Action|Adventure|Drama  \n",
       "64409                       Action|Adventure|Drama  \n",
       "64410                       Action|Adventure|Drama  \n",
       "\n",
       "[64411 rows x 6 columns]"
      ]
     },
     "execution_count": 91,
     "metadata": {},
     "output_type": "execute_result"
    }
   ],
   "source": [
    "final_data"
   ]
  },
  {
   "cell_type": "code",
   "execution_count": 137,
   "id": "54a787b6-a3c8-4742-87fe-4096b2d8100f",
   "metadata": {},
   "outputs": [
    {
     "data": {
      "text/plain": [
       "True"
      ]
     },
     "execution_count": 137,
     "metadata": {},
     "output_type": "execute_result"
    }
   ],
   "source": [
    "# check if there are no duplicate titles\n",
    "len(final_data['title'].unique()) == len(final_data['movieId'].unique())"
   ]
  },
  {
   "cell_type": "code",
   "execution_count": 92,
   "id": "25f00dbb-d975-41ec-8e02-d9abf489a94c",
   "metadata": {},
   "outputs": [],
   "source": [
    "#json format\n",
    "d = final_data.to_json(orient='records')\n",
    "data = json.loads(d)"
   ]
  },
  {
   "cell_type": "code",
   "execution_count": 93,
   "id": "d9318468-33e9-4512-ac58-d86a09a5a473",
   "metadata": {},
   "outputs": [
    {
     "data": {
      "text/plain": [
       "[{'userId': 1,\n",
       "  'movieId': 1,\n",
       "  'rating': 4.0,\n",
       "  'timestamp': 964982703,\n",
       "  'title': 'Toy Story (1995)',\n",
       "  'genres': 'Adventure|Animation|Children|Comedy|Fantasy'}]"
      ]
     },
     "execution_count": 93,
     "metadata": {},
     "output_type": "execute_result"
    }
   ],
   "source": [
    "data[:1]"
   ]
  },
  {
   "cell_type": "markdown",
   "id": "976ba3fb-80a6-4cfb-88e2-eda9fab2413e",
   "metadata": {},
   "source": [
    "### Plan: item-based collaborative filtering algorithm"
   ]
  },
  {
   "cell_type": "code",
   "execution_count": 244,
   "id": "8f0c5871-d6b6-474e-8a28-dfd12c47ede3",
   "metadata": {},
   "outputs": [
    {
     "data": {
      "text/html": [
       "<img src=\"https://miro.medium.com/max/548/1*pv6CDVqPgITYi_Nr0RygUw.png\"/>"
      ],
      "text/plain": [
       "<IPython.core.display.Image object>"
      ]
     },
     "execution_count": 244,
     "metadata": {},
     "output_type": "execute_result"
    }
   ],
   "source": [
    "from IPython.display import Image\n",
    "from IPython.core.display import HTML \n",
    "Image(url= \"https://miro.medium.com/max/548/1*pv6CDVqPgITYi_Nr0RygUw.png\")\n",
    "# image found at https://towardsdatascience.com/how-to-build-a-movie-recommendation-system-67e321339109\n",
    "# image by Ramya Vidiyala, author of above article"
   ]
  },
  {
   "cell_type": "code",
   "execution_count": 150,
   "id": "2bf9ef7d-d1ca-4f56-9086-aea17add7790",
   "metadata": {},
   "outputs": [],
   "source": [
    "# utility data structures\n",
    "usersPerMovie = defaultdict(set) # Maps a movie to the users who rated it\n",
    "MoviesPerUser = defaultdict(set) # Maps a user to the movies that they rated\n",
    "ratingD = {} # Rating for user/movie pairs"
   ]
  },
  {
   "cell_type": "code",
   "execution_count": 151,
   "id": "6c02392e-8145-45d9-892c-e22aa748f5d0",
   "metadata": {},
   "outputs": [],
   "source": [
    "for d in data:\n",
    "    user, movie = d['userId'], d['title']\n",
    "    usersPerMovie[movie].add(user)\n",
    "    MoviesPerUser[user].add(movie)\n",
    "    ratingD[(user,movie)] = d['rating']"
   ]
  },
  {
   "cell_type": "code",
   "execution_count": 236,
   "id": "6aac2998-504c-423b-b593-d43a019594b1",
   "metadata": {},
   "outputs": [],
   "source": [
    "def Cosine(i1, i2):\n",
    "    # Between two movies\n",
    "    inter = usersPerMovie[i1].intersection(usersPerMovie[i2])\n",
    "    numer = 0\n",
    "    denom1 = 0\n",
    "    denom2 = 0\n",
    "    for u in inter:\n",
    "        numer += ratingD[(u,i1)]*ratingD[(u,i2)]\n",
    "    for u in usersPerMovie[i1]:\n",
    "        denom1 += ratingD[(u,i1)]**2\n",
    "    for u in usersPerMovie[i2]:\n",
    "        denom2 += ratingD[(u,i2)]**2\n",
    "    denom = math.sqrt(denom1) * math.sqrt(denom2)\n",
    "    if denom == 0: return 0\n",
    "    return numer / denom"
   ]
  },
  {
   "cell_type": "code",
   "execution_count": 235,
   "id": "8e92e97d-777a-441b-a1c6-0c140dfbddb0",
   "metadata": {},
   "outputs": [],
   "source": [
    "def similar_movie(i, N): # i = movieName in the format 'movieName (yearReleased)', N = number of similar movies\n",
    "    similarities = []\n",
    "    users = usersPerMovie[i]\n",
    "    for i2 in usersPerMovie:\n",
    "        if i2 == i: continue\n",
    "        sim = Cosine(i, i2)\n",
    "        similarities.append((sim,i2))\n",
    "    similarities.sort(reverse=True)\n",
    "    return similarities[:N]"
   ]
  },
  {
   "cell_type": "markdown",
   "id": "0685109c-13bb-4808-980e-1d6b4870fb69",
   "metadata": {},
   "source": [
    "#### Query has to be in the format 'movieName (year released)'"
   ]
  },
  {
   "cell_type": "code",
   "execution_count": 237,
   "id": "e9a2a1b5-87f4-4205-bf3f-0d4d85a3a732",
   "metadata": {},
   "outputs": [],
   "source": [
    "test = similar_movie('Jurassic Park (1993)', 10)"
   ]
  },
  {
   "cell_type": "code",
   "execution_count": 246,
   "id": "461b1979-99be-4583-b06a-825bfd3be4f7",
   "metadata": {},
   "outputs": [
    {
     "data": {
      "text/plain": [
       "[(0.7348170399903055, 'Terminator 2: Judgment Day (1991)'),\n",
       " (0.7034848018692534, 'Forrest Gump (1994)'),\n",
       " (0.6820273058705059, 'Braveheart (1995)'),\n",
       " (0.6779277579588566, 'Independence Day (a.k.a. ID4) (1996)'),\n",
       " (0.6740188457425691, 'Fugitive, The (1993)'),\n",
       " (0.6698532199931299, 'Speed (1994)'),\n",
       " (0.6560318133077641, 'Batman (1989)'),\n",
       " (0.6404456026822191, 'True Lies (1994)'),\n",
       " (0.6361478139259309, 'Apollo 13 (1995)'),\n",
       " (0.6331401842538178, 'Lion King, The (1994)')]"
      ]
     },
     "execution_count": 246,
     "metadata": {},
     "output_type": "execute_result"
    }
   ],
   "source": [
    "# Output is ('Similarity', 'MovieName')\n",
    "test"
   ]
  },
  {
   "cell_type": "markdown",
   "id": "6538aab7-3ed1-4fa1-8638-a7d0d3c7b636",
   "metadata": {},
   "source": [
    "As shown in this test output, our model is working correctly predicting recommendations based on user behavior/reviews. We can also see this in action as the system is recommending movies that are released near the same year as the movie query."
   ]
  },
  {
   "cell_type": "code",
   "execution_count": null,
   "id": "69095481-bb01-4d62-b8d1-fb52037e607e",
   "metadata": {},
   "outputs": [],
   "source": []
  }
 ],
 "metadata": {
  "kernelspec": {
   "display_name": "Python 3",
   "language": "python",
   "name": "python3"
  },
  "language_info": {
   "codemirror_mode": {
    "name": "ipython",
    "version": 3
   },
   "file_extension": ".py",
   "mimetype": "text/x-python",
   "name": "python",
   "nbconvert_exporter": "python",
   "pygments_lexer": "ipython3",
   "version": "3.8.8"
  }
 },
 "nbformat": 4,
 "nbformat_minor": 5
}
